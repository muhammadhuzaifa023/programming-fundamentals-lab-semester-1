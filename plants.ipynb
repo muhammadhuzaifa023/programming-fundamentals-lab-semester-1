{
 "cells": [
  {
   "cell_type": "code",
   "execution_count": 8,
   "metadata": {},
   "outputs": [
    {
     "name": "stdout",
     "output_type": "stream",
     "text": [
      "there are two types of plants \n",
      "1)sweet plants \n",
      "2)poisonous plants \n",
      "\n",
      "sweet plant\n",
      " the name of plant is: banana \n",
      " Taste of plant is: sweet \n",
      " age of plant is: 5 years \n",
      " usage of water in fruitful plants are: the sweet plants are use maximum water \n",
      " height of fruitful plant is: 6 feets \n",
      " \n",
      "poisonous plant\n",
      " the name of plant is: oleander \n",
      " Taste of plant is: poisonous \n",
      " age of plant is: 8 years \n",
      " usage of water in fruitful plants are: the poisonous plants are use minimum water \n",
      " height of poisonous plant is: 15 feet \n",
      " \n"
     ]
    }
   ],
   "source": [
    "class plants:\n",
    "    \n",
    "    def __init__(self,name,taste,age,usage_of_water,height):\n",
    "        self.name=name\n",
    "        self.taste=taste\n",
    "        self.age=age\n",
    "        self.usage_of_water=usage_of_water\n",
    "        self.height=height\n",
    "    \n",
    "    def sweet_plants(self):\n",
    "        return f\" the name of plant is: {self.name} \\n Taste of plant is: {self.taste} \\n age of plant is: {self.age} \\n usage of water in fruitful plants are: {self.usage_of_water} \\n height of fruitful plant is: {self.height} \\n \"\n",
    "    def deadliest_plants(self):\n",
    "         return f\" the name of plant is: {self.name} \\n Taste of plant is: {self.taste} \\n age of plant is: {self.age} \\n usage of water in fruitful plants are: {self.usage_of_water} \\n height of poisonous plant is: {self.height} \\n \"\n",
    "\n",
    "    \n",
    "sweet_plant=plants(\"banana\",\"sweet\",\"5 years\",\"the sweet plants are use maximum water\",\"6 feets\")  \n",
    "poisonous_plant= plants(\"oleander\",\"poisonous\",\"8 years\",\"the poisonous plants are use minimum water\",\"15 feet\")  \n",
    "  \n",
    "print(\"there are two types of plants \\n1)sweet plants \\n2)poisonous plants \\n\")\n",
    "print(\"sweet plant\")\n",
    "print(sweet_plant.sweet_plants())\n",
    "print(\"poisonous plant\")\n",
    "print(poisonous_plant.deadliest_plants())\n"
   ]
  }
 ],
 "metadata": {
  "kernelspec": {
   "display_name": "Python 3",
   "language": "python",
   "name": "python3"
  },
  "language_info": {
   "codemirror_mode": {
    "name": "ipython",
    "version": 3
   },
   "file_extension": ".py",
   "mimetype": "text/x-python",
   "name": "python",
   "nbconvert_exporter": "python",
   "pygments_lexer": "ipython3",
   "version": "3.7.4"
  }
 },
 "nbformat": 4,
 "nbformat_minor": 2
}
