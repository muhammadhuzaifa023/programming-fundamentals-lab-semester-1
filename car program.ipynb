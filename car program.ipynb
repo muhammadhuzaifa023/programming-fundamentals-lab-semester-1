{
 "cells": [
  {
   "cell_type": "code",
   "execution_count": 13,
   "metadata": {},
   "outputs": [
    {
     "name": "stdout",
     "output_type": "stream",
     "text": [
      " name of car is: Corolla \n",
      " model of car is: ABC-1234 \n",
      " color of car is: white \n",
      " price of car is: 2000000 \n",
      " year of registration of car is: 2019 \n",
      " \n",
      " name of car is: Fortuner \n",
      " model of car is: DEF-5678 \n",
      " color of car is: silver \n",
      " price of car is: 4000000 \n",
      " year of registration of car is: 2019 \n",
      " \n"
     ]
    }
   ],
   "source": [
    "class  car:\n",
    "    \n",
    "    def __init__(self,name,model_no,color,price,registration_year):\n",
    "        self.name=name\n",
    "        self.model_number=model_no\n",
    "        self.color=color\n",
    "        self.price=price\n",
    "        self.registration_year=registration_year\n",
    "    \n",
    "    def toyota_vehicle(self):\n",
    "        return f\" name of car is: {self.name} \\n model of car is: {self.model_number} \\n color of car is: {self.color} \\n price of car is: {self.price} \\n year of registration of car is: {self.registration_year} \\n \"\n",
    "\n",
    "class  luxury_car(car):\n",
    "    \n",
    "    def luxury_toyota_vehicle(self):\n",
    "        return f\" name of car is: {self.name} \\n model of car is: {self.model_number} \\n color of car is: {self.color} \\n price of car is: {self.price} \\n year of registration of car is: {self.registration_year} \\n \"\n",
    "\n",
    "    \n",
    "cars=car(\"Corolla\",\"ABC-1234\",\"white\",2000000,2019)  \n",
    "luxury_cars=luxury_car(\"Fortuner\",\"DEF-5678\",\"silver\",4000000,2019)  \n",
    "\n",
    "print(cars.toyota_vehicle())\n",
    "print(luxury_cars.luxury_toyota_vehicle())\n"
   ]
  }
 ],
 "metadata": {
  "kernelspec": {
   "display_name": "Python 3",
   "language": "python",
   "name": "python3"
  },
  "language_info": {
   "codemirror_mode": {
    "name": "ipython",
    "version": 3
   },
   "file_extension": ".py",
   "mimetype": "text/x-python",
   "name": "python",
   "nbconvert_exporter": "python",
   "pygments_lexer": "ipython3",
   "version": "3.7.4"
  }
 },
 "nbformat": 4,
 "nbformat_minor": 2
}
