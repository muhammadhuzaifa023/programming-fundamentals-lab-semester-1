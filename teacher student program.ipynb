{
 "cells": [
  {
   "cell_type": "code",
   "execution_count": 7,
   "metadata": {},
   "outputs": [
    {
     "name": "stdout",
     "output_type": "stream",
     "text": [
      " the name of techer is: Miss Sana \n",
      " Miss Sana taught course: mathematics \n",
      " Miss Sana taught class is: 6 \n",
      " the remarks of the teacher is: Miss sana is very good teacher \n",
      "\n",
      " the name of student is: Ali \n",
      " Ali is study in: 6 class \n",
      " Ali is good in: mathematics \n",
      " the remarks of the student is: Ali is very good student \n",
      "\n"
     ]
    }
   ],
   "source": [
    "class teacher:\n",
    "    \n",
    "    def __init__(self,name,teaching_course,teaching_class,remarks):\n",
    "        self.name=name\n",
    "        self.teaching_course=teaching_course\n",
    "        self.teaching_class=teaching_class\n",
    "        self.remarks=remarks\n",
    "        \n",
    "    def miss(self):\n",
    "        return f\" the name of techer is: {self.name} \\n {self.name} taught course: {self.teaching_course} \\n {self.name} taught class is: {self.teaching_class} \\n the remarks of the teacher is: {self.remarks} \\n\"\n",
    "\n",
    "class  student:\n",
    "    \n",
    "    def __init__(self,name,study_in,good_at,remarks):\n",
    "        self.name=name\n",
    "        self.study_in=study_in\n",
    "        self.good_at=good_at\n",
    "        self.remarks=remarks\n",
    "    \n",
    "    def boy(self):\n",
    "        return f\" the name of student is: {self.name} \\n {self.name} is study in: {self.study_in} \\n {self.name} is good in: {self.good_at} \\n the remarks of the student is: {self.remarks} \\n\"\n",
    "\n",
    "    \n",
    "mis=teacher(\"Miss Sana\",\"mathematics\",6,\"Miss sana is very good teacher\")  \n",
    "boys=student(\"Ali\",\"6 class\",\"mathematics\",\"Ali is very good student\")  \n",
    " \n",
    "  \n",
    "\n",
    "print(mis.miss())\n",
    "print(boys.boy())"
   ]
  }
 ],
 "metadata": {
  "kernelspec": {
   "display_name": "Python 3",
   "language": "python",
   "name": "python3"
  },
  "language_info": {
   "codemirror_mode": {
    "name": "ipython",
    "version": 3
   },
   "file_extension": ".py",
   "mimetype": "text/x-python",
   "name": "python",
   "nbconvert_exporter": "python",
   "pygments_lexer": "ipython3",
   "version": "3.7.4"
  }
 },
 "nbformat": 4,
 "nbformat_minor": 2
}
