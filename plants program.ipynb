{
 "cells": [
  {
   "cell_type": "code",
   "execution_count": 5,
   "metadata": {},
   "outputs": [
    {
     "name": "stdout",
     "output_type": "stream",
     "text": [
      " the name of plant is: malus doestica \n",
      " Taste of plant is: sweet \n",
      " age of plant is: 2 years \n",
      " usage of water in fruitful plants are: the sweet plants are use maximum water \n",
      " height of fruitful plant is: 4 feets \n",
      " \n",
      " the name of plant is: tobacco \n",
      " Taste of plant is: poisonous \n",
      " age of plant is: 4 \n",
      " usage of water in fruitful plants are: the poisonous plants are use minimum water \n",
      " height of poisonous plant is: 10 feet \n",
      " \n"
     ]
    }
   ],
   "source": [
    "class fruitful_plants:\n",
    "    \n",
    "    def __init__(self,name,taste,age,usage_of_water,height):\n",
    "        self.name=name\n",
    "        self.taste=taste\n",
    "        self.age=age\n",
    "        self.usage_of_water=usage_of_water\n",
    "        self.height=height\n",
    "    \n",
    "    def sweet_plants(self):\n",
    "        return f\" the name of plant is: {self.name} \\n Taste of plant is: {self.taste} \\n age of plant is: {self.age} \\n usage of water in fruitful plants are: {self.usage_of_water} \\n height of fruitful plant is: {self.height} \\n \"\n",
    "\n",
    "class  poisonous_plants(fruitful_plants):\n",
    "    \n",
    "    def deadliest_plants(self):\n",
    "         return f\" the name of plant is: {self.name} \\n Taste of plant is: {self.taste} \\n age of plant is: {self.age} \\n usage of water in fruitful plants are: {self.usage_of_water} \\n height of poisonous plant is: {self.height} \\n \"\n",
    "\n",
    "    \n",
    "sweet_plant=fruitful_plants(\"malus doestica\",\"sweet\",\"2 years\",\"the sweet plants are use maximum water\",\"4 feets\")  \n",
    "poisonous_plant= poisonous_plants(\"tobacco\",\"poisonous\",4,\"the poisonous plants are use minimum water\",\"10 feet\")  \n",
    "  \n",
    "\n",
    "print(sweet_plant.sweet_plants())\n",
    "print(poisonous_plant.deadliest_plants())\n"
   ]
  }
 ],
 "metadata": {
  "kernelspec": {
   "display_name": "Python 3",
   "language": "python",
   "name": "python3"
  },
  "language_info": {
   "codemirror_mode": {
    "name": "ipython",
    "version": 3
   },
   "file_extension": ".py",
   "mimetype": "text/x-python",
   "name": "python",
   "nbconvert_exporter": "python",
   "pygments_lexer": "ipython3",
   "version": "3.7.4"
  }
 },
 "nbformat": 4,
 "nbformat_minor": 2
}
