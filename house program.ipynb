{
 "cells": [
  {
   "cell_type": "code",
   "execution_count": 7,
   "metadata": {},
   "outputs": [
    {
     "name": "stdout",
     "output_type": "stream",
     "text": [
      " the type of house is: Bungalo \n",
      " location of the house is: 123-ABC xyz road Karachi \n",
      " rooms in the house is: 20 \n",
      " location of the house is: the bungalo have only one story \n",
      " parking is available or not: parking is available in the bungalo \n",
      " \n",
      " the type of house is: appartment \n",
      " location of the house is: 456-LMN rst road Karachi \n",
      " rooms in the house is: 4 \n",
      " location of the house is: this appartment have 10 floors \n",
      " parking is available or not: Parking is not available in the appartment \n",
      " \n"
     ]
    }
   ],
   "source": [
    "class residential_houses:\n",
    "    \n",
    "    def __init__(self,type_of_house,location_of_house,rooms_in_the_house,story,parking):\n",
    "        self.type_of_house=type_of_house\n",
    "        self.location_of_house=location_of_house\n",
    "        self.rooms_in_the_house=rooms_in_the_house\n",
    "        self.story=story\n",
    "        self.parking=parking\n",
    "    \n",
    "    def big_house(self):\n",
    "        return f\" the type of house is: {self.type_of_house} \\n location of the house is: {self.location_of_house} \\n rooms in the house is: {self.rooms_in_the_house} \\n location of the house is: {self.story} \\n parking is available or not: {self.parking} \\n \"\n",
    "\n",
    "class  commercial_houses(residential_houses):\n",
    "    \n",
    "    def small_house(self):\n",
    "        return f\" the type of house is: {self.type_of_house} \\n location of the house is: {self.location_of_house} \\n rooms in the house is: {self.rooms_in_the_house} \\n location of the house is: {self.story} \\n parking is available or not: {self.parking} \\n \"\n",
    "\n",
    "    \n",
    "residential_house=residential_houses(\"Bungalo\",\"123-ABC xyz road Karachi\",20,\"the bungalo have only one story\",\"parking is available in the bungalo\")  \n",
    "commercial_house=commercial_houses(\"appartment\",\"456-LMN rst road Karachi\",4,\"this appartment have 10 floors\",\"Parking is not available in the appartment\")  \n",
    "  \n",
    "\n",
    "print(residential_house.big_house())\n",
    "print(commercial_house.small_house())\n"
   ]
  }
 ],
 "metadata": {
  "kernelspec": {
   "display_name": "Python 3",
   "language": "python",
   "name": "python3"
  },
  "language_info": {
   "codemirror_mode": {
    "name": "ipython",
    "version": 3
   },
   "file_extension": ".py",
   "mimetype": "text/x-python",
   "name": "python",
   "nbconvert_exporter": "python",
   "pygments_lexer": "ipython3",
   "version": "3.7.4"
  }
 },
 "nbformat": 4,
 "nbformat_minor": 2
}
